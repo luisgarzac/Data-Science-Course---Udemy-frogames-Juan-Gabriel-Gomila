{
 "cells": [
  {
   "cell_type": "markdown",
   "id": "d8878ba6",
   "metadata": {},
   "source": [
    "# Dividir el dataset en conjunto de entrenamiento y de testing"
   ]
  },
  {
   "cell_type": "code",
   "execution_count": 1,
   "id": "e775c033",
   "metadata": {},
   "outputs": [],
   "source": [
    "import pandas as pd\n",
    "import numpy as np\n",
    "import matplotlib.pyplot as plt"
   ]
  },
  {
   "cell_type": "code",
   "execution_count": 2,
   "id": "d11e47c3",
   "metadata": {},
   "outputs": [],
   "source": [
    "data = pd.read_csv(\"/Users/Luis Antonio Garza/Python proyectos/python-ml-course-master/datasets/ads/Advertising.csv\")"
   ]
  },
  {
   "cell_type": "code",
   "execution_count": 3,
   "id": "1228ef08",
   "metadata": {},
   "outputs": [],
   "source": [
    "a = np.random.randn(len(data))"
   ]
  },
  {
   "cell_type": "code",
   "execution_count": 4,
   "id": "79d93572",
   "metadata": {},
   "outputs": [
    {
     "data": {
      "text/plain": [
       "(array([ 2.,  2., 13., 22., 56., 55., 27., 14.,  6.,  3.]),\n",
       " array([-2.91910280e+00, -2.33524557e+00, -1.75138833e+00, -1.16753109e+00,\n",
       "        -5.83673857e-01,  1.83379723e-04,  5.84040617e-01,  1.16789785e+00,\n",
       "         1.75175509e+00,  2.33561233e+00,  2.91946956e+00]),\n",
       " <BarContainer object of 10 artists>)"
      ]
     },
     "execution_count": 4,
     "metadata": {},
     "output_type": "execute_result"
    },
    {
     "data": {
      "image/png": "[encoded data removed]",
      "text/plain": [
       "<Figure size 432x288 with 1 Axes>"
      ]
     },
     "metadata": {
      "needs_background": "light"
     },
     "output_type": "display_data"
    }
   ],
   "source": [
    "plt.hist(a)"
   ]
  },
  {
   "cell_type": "code",
   "execution_count": 5,
   "id": "838facb5",
   "metadata": {},
   "outputs": [],
   "source": [
    "check = (a<0.8) # 80 / 20\n",
    "training = data[check]\n",
    "testing = data[~check]"
   ]
  },
  {
   "cell_type": "code",
   "execution_count": 6,
   "id": "d8436342",
   "metadata": {},
   "outputs": [
    {
     "data": {
      "text/plain": [
       "(164, 36)"
      ]
     },
     "execution_count": 6,
     "metadata": {},
     "output_type": "execute_result"
    }
   ],
   "source": [
    "len(training), len(testing)"
   ]
  },
  {
   "cell_type": "code",
   "execution_count": 10,
   "id": "3ee99716",
   "metadata": {},
   "outputs": [],
   "source": [
    "import statsmodels.formula.api as smf\n",
    "lm = smf.ols(formula = \"Sales~TV +Radio\", data = training).fit()"
   ]
  },
  {
   "cell_type": "code",
   "execution_count": 11,
   "id": "978e7477",
   "metadata": {},
   "outputs": [
    {
     "data": {
      "text/html": [
       "<table class=\"simpletable\">\n",
       "<caption>OLS Regression Results</caption>\n",
       "<tr>\n",
       "  <th>Dep. Variable:</th>          <td>Sales</td>      <th>  R-squared:         </th> <td>   0.910</td>\n",
       "</tr>\n",
       "<tr>\n",
       "  <th>Model:</th>                   <td>OLS</td>       <th>  Adj. R-squared:    </th> <td>   0.909</td>\n",
       "</tr>\n",
       "<tr>\n",
       "  <th>Method:</th>             <td>Least Squares</td>  <th>  F-statistic:       </th> <td>   817.9</td>\n",
       "</tr>\n",
       "<tr>\n",
       "  <th>Date:</th>             <td>Tue, 13 Sep 2022</td> <th>  Prob (F-statistic):</th> <td>4.60e-85</td>\n",
       "</tr>\n",
       "<tr>\n",
       "  <th>Time:</th>                 <td>01:29:09</td>     <th>  Log-Likelihood:    </th> <td> -308.37</td>\n",
       "</tr>\n",
       "<tr>\n",
       "  <th>No. Observations:</th>      <td>   164</td>      <th>  AIC:               </th> <td>   622.7</td>\n",
       "</tr>\n",
       "<tr>\n",
       "  <th>Df Residuals:</th>          <td>   161</td>      <th>  BIC:               </th> <td>   632.0</td>\n",
       "</tr>\n",
       "<tr>\n",
       "  <th>Df Model:</th>              <td>     2</td>      <th>                     </th>     <td> </td>   \n",
       "</tr>\n",
       "<tr>\n",
       "  <th>Covariance Type:</th>      <td>nonrobust</td>    <th>                     </th>     <td> </td>   \n",
       "</tr>\n",
       "</table>\n",
       "<table class=\"simpletable\">\n",
       "<tr>\n",
       "      <td></td>         <th>coef</th>     <th>std err</th>      <th>t</th>      <th>P>|t|</th>  <th>[0.025</th>    <th>0.975]</th>  \n",
       "</tr>\n",
       "<tr>\n",
       "  <th>Intercept</th> <td>    2.9384</td> <td>    0.307</td> <td>    9.576</td> <td> 0.000</td> <td>    2.332</td> <td>    3.544</td>\n",
       "</tr>\n",
       "<tr>\n",
       "  <th>TV</th>        <td>    0.0455</td> <td>    0.001</td> <td>   31.132</td> <td> 0.000</td> <td>    0.043</td> <td>    0.048</td>\n",
       "</tr>\n",
       "<tr>\n",
       "  <th>Radio</th>     <td>    0.1920</td> <td>    0.008</td> <td>   22.669</td> <td> 0.000</td> <td>    0.175</td> <td>    0.209</td>\n",
       "</tr>\n",
       "</table>\n",
       "<table class=\"simpletable\">\n",
       "<tr>\n",
       "  <th>Omnibus:</th>       <td>18.566</td> <th>  Durbin-Watson:     </th> <td>   2.053</td>\n",
       "</tr>\n",
       "<tr>\n",
       "  <th>Prob(Omnibus):</th> <td> 0.000</td> <th>  Jarque-Bera (JB):  </th> <td>  21.282</td>\n",
       "</tr>\n",
       "<tr>\n",
       "  <th>Skew:</th>          <td>-0.858</td> <th>  Prob(JB):          </th> <td>2.39e-05</td>\n",
       "</tr>\n",
       "<tr>\n",
       "  <th>Kurtosis:</th>      <td> 3.414</td> <th>  Cond. No.          </th> <td>    421.</td>\n",
       "</tr>\n",
       "</table><br/><br/>Notes:<br/>[1] Standard Errors assume that the covariance matrix of the errors is correctly specified."
      ],
      "text/plain": [
       "<class 'statsmodels.iolib.summary.Summary'>\n",
       "\"\"\"\n",
       "                            OLS Regression Results                            \n",
       "==============================================================================\n",
       "Dep. Variable:                  Sales   R-squared:                       0.910\n",
       "Model:                            OLS   Adj. R-squared:                  0.909\n",
       "Method:                 Least Squares   F-statistic:                     817.9\n",
       "Date:                Tue, 13 Sep 2022   Prob (F-statistic):           4.60e-85\n",
       "Time:                        01:29:09   Log-Likelihood:                -308.37\n",
       "No. Observations:                 164   AIC:                             622.7\n",
       "Df Residuals:                     161   BIC:                             632.0\n",
       "Df Model:                           2                                         \n",
       "Covariance Type:            nonrobust                                         \n",
       "==============================================================================\n",
       "                 coef    std err          t      P>|t|      [0.025      0.975]\n",
       "------------------------------------------------------------------------------\n",
       "Intercept      2.9384      0.307      9.576      0.000       2.332       3.544\n",
       "TV             0.0455      0.001     31.132      0.000       0.043       0.048\n",
       "Radio          0.1920      0.008     22.669      0.000       0.175       0.209\n",
       "==============================================================================\n",
       "Omnibus:                       18.566   Durbin-Watson:                   2.053\n",
       "Prob(Omnibus):                  0.000   Jarque-Bera (JB):               21.282\n",
       "Skew:                          -0.858   Prob(JB):                     2.39e-05\n",
       "Kurtosis:                       3.414   Cond. No.                         421.\n",
       "==============================================================================\n",
       "\n",
       "Notes:\n",
       "[1] Standard Errors assume that the covariance matrix of the errors is correctly specified.\n",
       "\"\"\""
      ]
     },
     "execution_count": 11,
     "metadata": {},
     "output_type": "execute_result"
    }
   ],
   "source": [
    "lm.summary()"
   ]
  },
  {
   "cell_type": "markdown",
   "id": "25381aaf",
   "metadata": {},
   "source": [
    "Sales = 2.9384\t+ 0.0455*TV + 0.1920*Radio"
   ]
  },
  {
   "cell_type": "markdown",
   "id": "a119e00e",
   "metadata": {},
   "source": [
    "## Validación del modelo con el conjunto de testing"
   ]
  },
  {
   "cell_type": "code",
   "execution_count": 12,
   "id": "a2b2f56f",
   "metadata": {},
   "outputs": [
    {
     "data": {
      "text/plain": [
       "1      12.507562\n",
       "6      11.851254\n",
       "7      12.170095\n",
       "8       3.732820\n",
       "30     21.698079\n",
       "32      7.648934\n",
       "35     16.952299\n",
       "38     10.025036\n",
       "48     16.309103\n",
       "60      5.756571\n",
       "62     16.802062\n",
       "68     19.019255\n",
       "84     20.907344\n",
       "95     16.434786\n",
       "97     15.382700\n",
       "106     6.187554\n",
       "110    14.786429\n",
       "116    12.017151\n",
       "120    14.512329\n",
       "122    13.591102\n",
       "124    19.581262\n",
       "130    10.572254\n",
       "136    11.590021\n",
       "141    18.547471\n",
       "144    10.156638\n",
       "145     9.686770\n",
       "148    12.403782\n",
       "157    10.003838\n",
       "160    14.261787\n",
       "167    13.346019\n",
       "176    20.038074\n",
       "179    12.392878\n",
       "185    20.923732\n",
       "186     9.688764\n",
       "190    12.625608\n",
       "199    15.149867\n",
       "dtype: float64"
      ]
     },
     "execution_count": 12,
     "metadata": {},
     "output_type": "execute_result"
    }
   ],
   "source": [
    "sales_pred = lm.predict(testing)\n",
    "sales_pred"
   ]
  },
  {
   "cell_type": "code",
   "execution_count": 13,
   "id": "16fd352a",
   "metadata": {},
   "outputs": [
    {
     "data": {
      "text/plain": [
       "146.045662970612"
      ]
     },
     "execution_count": 13,
     "metadata": {},
     "output_type": "execute_result"
    }
   ],
   "source": [
    "SSD = sum((testing[\"Sales\"] - sales_pred)**2)\n",
    "SSD"
   ]
  },
  {
   "cell_type": "code",
   "execution_count": 14,
   "id": "50541cc6",
   "metadata": {},
   "outputs": [
    {
     "data": {
      "text/plain": [
       "2.1037172221153217"
      ]
     },
     "execution_count": 14,
     "metadata": {},
     "output_type": "execute_result"
    }
   ],
   "source": [
    "RSE = np.sqrt(SSD/(len(testing)-2-1))\n",
    "RSE"
   ]
  },
  {
   "cell_type": "code",
   "execution_count": 15,
   "id": "c295fe1b",
   "metadata": {},
   "outputs": [
    {
     "data": {
      "text/plain": [
       "0.15950678179475902"
      ]
     },
     "execution_count": 15,
     "metadata": {},
     "output_type": "execute_result"
    }
   ],
   "source": [
    "sales_mean = np.mean(testing[\"Sales\"])\n",
    "error = RSE/sales_mean\n",
    "error"
   ]
  },
  {
   "cell_type": "code",
   "execution_count": null,
   "id": "910d4b2e",
   "metadata": {},
   "outputs": [],
   "source": []
  },
  {
   "cell_type": "code",
   "execution_count": null,
   "id": "d19836a6",
   "metadata": {},
   "outputs": [],
   "source": []
  },
  {
   "cell_type": "code",
   "execution_count": null,
   "id": "8cbba269",
   "metadata": {},
   "outputs": [],
   "source": []
  }
 ],
 "metadata": {
  "kernelspec": {
   "display_name": "Python 3 (ipykernel)",
   "language": "python",
   "name": "python3"
  },
  "language_info": {
   "codemirror_mode": {
    "name": "ipython",
    "version": 3
   },
   "file_extension": ".py",
   "mimetype": "text/x-python",
   "name": "python",
   "nbconvert_exporter": "python",
   "pygments_lexer": "ipython3",
   "version": "3.9.7"
  }
 },
 "nbformat": 4,
 "nbformat_minor": 5
}
