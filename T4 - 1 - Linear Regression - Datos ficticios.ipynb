{
 "cells": [
  {
   "cell_type": "markdown",
   "id": "f8ac284c",
   "metadata": {},
   "source": [
    "# Modelos de regresión lineal\n",
    "## Modelo con datos simulados\n",
    "* y = a + b*x\n",
    "* x = 100 valores distribuidos según una N(1.5,2.5)\n",
    "* ye = 5 + 1.9 * x\n",
    "\n",
    "* e estará distribuido según una N (0,0.8)"
   ]
  },
  {
   "cell_type": "code",
   "execution_count": 1,
   "id": "ea171105",
   "metadata": {},
   "outputs": [],
   "source": [
    "import pandas as pd\n",
    "import numpy as np"
   ]
  },
  {
   "cell_type": "code",
   "execution_count": 2,
   "id": "41d83960",
   "metadata": {},
   "outputs": [],
   "source": [
    "x = 1.5 + 2.5 * np.random.randn(100)"
   ]
  },
  {
   "cell_type": "code",
   "execution_count": 3,
   "id": "41bbacf5",
   "metadata": {},
   "outputs": [],
   "source": [
    "res = 0 + 0.8 * np.random.randn(100)"
   ]
  },
  {
   "cell_type": "code",
   "execution_count": 4,
   "id": "6a0bb88f",
   "metadata": {},
   "outputs": [],
   "source": [
    "y_pred = 5 + 1.9 * x"
   ]
  },
  {
   "cell_type": "code",
   "execution_count": 5,
   "id": "dd6c4c0c",
   "metadata": {},
   "outputs": [],
   "source": [
    "y_act = 5 +1.9 *x + res"
   ]
  },
  {
   "cell_type": "code",
   "execution_count": 6,
   "id": "1d81fc49",
   "metadata": {},
   "outputs": [],
   "source": [
    "x_list = x.tolist()\n",
    "y_pred_list = y_pred.tolist()\n",
    "y_act_list = y_act.tolist()"
   ]
  },
  {
   "cell_type": "code",
   "execution_count": 15,
   "id": "13a8bf94",
   "metadata": {},
   "outputs": [],
   "source": [
    "data = pd.DataFrame(\n",
    "    \n",
    "    {\n",
    "        \"x\" : x_list,\n",
    "        \"y_actual\" : y_act_list,\n",
    "        \"y_prediccion\" : y_pred_list\n",
    "        \n",
    "        \n",
    "        \n",
    "    }\n",
    "\n",
    "\n",
    "\n",
    ")"
   ]
  },
  {
   "cell_type": "code",
   "execution_count": 16,
   "id": "3e54e01d",
   "metadata": {},
   "outputs": [
    {
     "data": {
      "text/html": [
       "<div>\n",
       "<style scoped>\n",
       "    .dataframe tbody tr th:only-of-type {\n",
       "        vertical-align: middle;\n",
       "    }\n",
       "\n",
       "    .dataframe tbody tr th {\n",
       "        vertical-align: top;\n",
       "    }\n",
       "\n",
       "    .dataframe thead th {\n",
       "        text-align: right;\n",
       "    }\n",
       "</style>\n",
       "<table border=\"1\" class=\"dataframe\">\n",
       "  <thead>\n",
       "    <tr style=\"text-align: right;\">\n",
       "      <th></th>\n",
       "      <th>x</th>\n",
       "      <th>y_actual</th>\n",
       "      <th>y_prediccion</th>\n",
       "    </tr>\n",
       "  </thead>\n",
       "  <tbody>\n",
       "    <tr>\n",
       "      <th>0</th>\n",
       "      <td>3.212715</td>\n",
       "      <td>10.820414</td>\n",
       "      <td>11.104159</td>\n",
       "    </tr>\n",
       "    <tr>\n",
       "      <th>1</th>\n",
       "      <td>1.975507</td>\n",
       "      <td>10.090960</td>\n",
       "      <td>8.753463</td>\n",
       "    </tr>\n",
       "    <tr>\n",
       "      <th>2</th>\n",
       "      <td>-0.743023</td>\n",
       "      <td>3.340604</td>\n",
       "      <td>3.588255</td>\n",
       "    </tr>\n",
       "    <tr>\n",
       "      <th>3</th>\n",
       "      <td>5.530609</td>\n",
       "      <td>16.040868</td>\n",
       "      <td>15.508157</td>\n",
       "    </tr>\n",
       "    <tr>\n",
       "      <th>4</th>\n",
       "      <td>2.075061</td>\n",
       "      <td>10.279532</td>\n",
       "      <td>8.942617</td>\n",
       "    </tr>\n",
       "  </tbody>\n",
       "</table>\n",
       "</div>"
      ],
      "text/plain": [
       "          x   y_actual  y_prediccion\n",
       "0  3.212715  10.820414     11.104159\n",
       "1  1.975507  10.090960      8.753463\n",
       "2 -0.743023   3.340604      3.588255\n",
       "3  5.530609  16.040868     15.508157\n",
       "4  2.075061  10.279532      8.942617"
      ]
     },
     "execution_count": 16,
     "metadata": {},
     "output_type": "execute_result"
    }
   ],
   "source": [
    "data.head()"
   ]
  },
  {
   "cell_type": "code",
   "execution_count": 9,
   "id": "eb824dd8",
   "metadata": {},
   "outputs": [],
   "source": [
    "# comprobaremos que tan preciso fue el modelo \n",
    "\n",
    "import matplotlib.pyplot as plt\n"
   ]
  },
  {
   "cell_type": "code",
   "execution_count": 11,
   "id": "c2208c2a",
   "metadata": {},
   "outputs": [],
   "source": [
    "y_mean = [np.mean(y_act) for i in range(1, len(x_list) + 1)]"
   ]
  },
  {
   "cell_type": "code",
   "execution_count": 12,
   "id": "ac8abf61",
   "metadata": {},
   "outputs": [
    {
     "data": {
      "text/plain": [
       "Text(0.5, 1.0, 'Valor actual vs predicción')"
      ]
     },
     "execution_count": 12,
     "metadata": {},
     "output_type": "execute_result"
    },
    {
     "data": {
      "image/png": "[encoded data removed]",
      "text/plain": [
       "<Figure size 432x288 with 1 Axes>"
      ]
     },
     "metadata": {
      "needs_background": "light"
     },
     "output_type": "display_data"
    }
   ],
   "source": [
    "%matplotlib inline\n",
    "plt.plot(x,y_pred)\n",
    "plt.plot(x, y_act, \"ro\")\n",
    "plt.plot(x, y_mean, \"g\")\n",
    "plt.title(\"Valor actual vs predicción\")"
   ]
  },
  {
   "cell_type": "code",
   "execution_count": 13,
   "id": "0621c0e2",
   "metadata": {},
   "outputs": [],
   "source": [
    "# SSD = suma de los cuadrados de la diferencia\n",
    "# SST = suma de los cuadrados totales\n",
    "# SSR = suma de los cuadrados de la regresión\n",
    "\n",
    "# SST = SSR + SSD\n",
    "\n",
    "\n",
    "# R^2 = SSR / SST   # es un indicador de que el modelo de regresion ha sido efectivo"
   ]
  },
  {
   "cell_type": "code",
   "execution_count": 18,
   "id": "2a94d636",
   "metadata": {},
   "outputs": [],
   "source": [
    "data[\"SSR\"] = (data[\"y_prediccion\"] - np.mean(y_act))**2\n",
    "data[\"SSD\"] = (data[\"y_prediccion\"] - data[\"y_actual\"])**2\n",
    "data[\"SST\"] = (data[\"y_actual\"] - np.mean(y_act))**2"
   ]
  },
  {
   "cell_type": "code",
   "execution_count": 19,
   "id": "a57e05a1",
   "metadata": {},
   "outputs": [
    {
     "data": {
      "text/html": [
       "<div>\n",
       "<style scoped>\n",
       "    .dataframe tbody tr th:only-of-type {\n",
       "        vertical-align: middle;\n",
       "    }\n",
       "\n",
       "    .dataframe tbody tr th {\n",
       "        vertical-align: top;\n",
       "    }\n",
       "\n",
       "    .dataframe thead th {\n",
       "        text-align: right;\n",
       "    }\n",
       "</style>\n",
       "<table border=\"1\" class=\"dataframe\">\n",
       "  <thead>\n",
       "    <tr style=\"text-align: right;\">\n",
       "      <th></th>\n",
       "      <th>x</th>\n",
       "      <th>y_actual</th>\n",
       "      <th>y_prediccion</th>\n",
       "      <th>SSR</th>\n",
       "      <th>SSD</th>\n",
       "      <th>SST</th>\n",
       "    </tr>\n",
       "  </thead>\n",
       "  <tbody>\n",
       "    <tr>\n",
       "      <th>0</th>\n",
       "      <td>3.212715</td>\n",
       "      <td>10.820414</td>\n",
       "      <td>11.104159</td>\n",
       "      <td>8.059125</td>\n",
       "      <td>0.080511</td>\n",
       "      <td>6.528616</td>\n",
       "    </tr>\n",
       "    <tr>\n",
       "      <th>1</th>\n",
       "      <td>1.975507</td>\n",
       "      <td>10.090960</td>\n",
       "      <td>8.753463</td>\n",
       "      <td>0.238304</td>\n",
       "      <td>1.788898</td>\n",
       "      <td>3.333039</td>\n",
       "    </tr>\n",
       "    <tr>\n",
       "      <th>2</th>\n",
       "      <td>-0.743023</td>\n",
       "      <td>3.340604</td>\n",
       "      <td>3.588255</td>\n",
       "      <td>21.874734</td>\n",
       "      <td>0.061331</td>\n",
       "      <td>24.252619</td>\n",
       "    </tr>\n",
       "    <tr>\n",
       "      <th>3</th>\n",
       "      <td>5.530609</td>\n",
       "      <td>16.040868</td>\n",
       "      <td>15.508157</td>\n",
       "      <td>52.458993</td>\n",
       "      <td>0.283781</td>\n",
       "      <td>60.459473</td>\n",
       "    </tr>\n",
       "    <tr>\n",
       "      <th>4</th>\n",
       "      <td>2.075061</td>\n",
       "      <td>10.279532</td>\n",
       "      <td>8.942617</td>\n",
       "      <td>0.458760</td>\n",
       "      <td>1.787342</td>\n",
       "      <td>4.057134</td>\n",
       "    </tr>\n",
       "  </tbody>\n",
       "</table>\n",
       "</div>"
      ],
      "text/plain": [
       "          x   y_actual  y_prediccion        SSR       SSD        SST\n",
       "0  3.212715  10.820414     11.104159   8.059125  0.080511   6.528616\n",
       "1  1.975507  10.090960      8.753463   0.238304  1.788898   3.333039\n",
       "2 -0.743023   3.340604      3.588255  21.874734  0.061331  24.252619\n",
       "3  5.530609  16.040868     15.508157  52.458993  0.283781  60.459473\n",
       "4  2.075061  10.279532      8.942617   0.458760  1.787342   4.057134"
      ]
     },
     "execution_count": 19,
     "metadata": {},
     "output_type": "execute_result"
    }
   ],
   "source": [
    "data.head()"
   ]
  },
  {
   "cell_type": "code",
   "execution_count": 20,
   "id": "6cc5bb17",
   "metadata": {},
   "outputs": [],
   "source": [
    "SSR = sum(data[\"SSR\"])\n",
    "SSD = sum(data[\"SSD\"])\n",
    "SST = sum(data[\"SST\"])"
   ]
  },
  {
   "cell_type": "code",
   "execution_count": 21,
   "id": "f566a670",
   "metadata": {},
   "outputs": [
    {
     "data": {
      "text/plain": [
       "2389.8903390689948"
      ]
     },
     "execution_count": 21,
     "metadata": {},
     "output_type": "execute_result"
    }
   ],
   "source": [
    "SSR"
   ]
  },
  {
   "cell_type": "code",
   "execution_count": 22,
   "id": "46cc0dc3",
   "metadata": {},
   "outputs": [
    {
     "data": {
      "text/plain": [
       "68.83825465219637"
      ]
     },
     "execution_count": 22,
     "metadata": {},
     "output_type": "execute_result"
    }
   ],
   "source": [
    "SSD"
   ]
  },
  {
   "cell_type": "code",
   "execution_count": 23,
   "id": "25656eba",
   "metadata": {},
   "outputs": [
    {
     "data": {
      "text/plain": [
       "2486.675334279242"
      ]
     },
     "execution_count": 23,
     "metadata": {},
     "output_type": "execute_result"
    }
   ],
   "source": [
    "SST"
   ]
  },
  {
   "cell_type": "code",
   "execution_count": 24,
   "id": "4a069aba",
   "metadata": {},
   "outputs": [
    {
     "data": {
      "text/plain": [
       "2458.728593721191"
      ]
     },
     "execution_count": 24,
     "metadata": {},
     "output_type": "execute_result"
    }
   ],
   "source": [
    "SSR + SSD"
   ]
  },
  {
   "cell_type": "code",
   "execution_count": 25,
   "id": "75737dc2",
   "metadata": {},
   "outputs": [],
   "source": [
    "R2 = SSR/SST"
   ]
  },
  {
   "cell_type": "code",
   "execution_count": 26,
   "id": "39cb006c",
   "metadata": {},
   "outputs": [
    {
     "data": {
      "text/plain": [
       "0.9610785558226883"
      ]
     },
     "execution_count": 26,
     "metadata": {},
     "output_type": "execute_result"
    }
   ],
   "source": [
    "R2"
   ]
  },
  {
   "cell_type": "code",
   "execution_count": 29,
   "id": "d982d08f",
   "metadata": {},
   "outputs": [
    {
     "data": {
      "text/plain": [
       "(array([ 4.,  7., 14., 22., 19., 18.,  5.,  7.,  3.,  1.]),\n",
       " array([-1.93369997, -1.50075993, -1.06781988, -0.63487983, -0.20193978,\n",
       "         0.23100027,  0.66394032,  1.09688036,  1.52982041,  1.96276046,\n",
       "         2.39570051]),\n",
       " <BarContainer object of 10 artists>)"
      ]
     },
     "execution_count": 29,
     "metadata": {},
     "output_type": "execute_result"
    },
    {
     "data": {
      "image/png": "[encoded data removed]",
      "text/plain": [
       "<Figure size 432x288 with 1 Axes>"
      ]
     },
     "metadata": {
      "needs_background": "light"
     },
     "output_type": "display_data"
    }
   ],
   "source": [
    "plt.hist(data[\"y_prediccion\"] - data[\"y_actual\"])"
   ]
  },
  {
   "cell_type": "markdown",
   "id": "472e3f89",
   "metadata": {},
   "source": [
    "## Obteniendo la recta de regresión\n",
    "\n",
    "* b=sum((xi - x_m)*(y_i_m))/su,(xi-x_m)^2)\n",
    "* a = y_n - b * x_m"
   ]
  },
  {
   "cell_type": "code",
   "execution_count": 31,
   "id": "9327ea01",
   "metadata": {},
   "outputs": [
    {
     "data": {
      "text/plain": [
       "(1.6838633923161277, 8.26529871457293)"
      ]
     },
     "execution_count": 31,
     "metadata": {},
     "output_type": "execute_result"
    }
   ],
   "source": [
    "x_mean = np.mean(data[\"x\"])\n",
    "y_mean = np.mean(data[\"y_actual\"])\n",
    "x_mean, y_mean"
   ]
  },
  {
   "cell_type": "code",
   "execution_count": 33,
   "id": "bb58712d",
   "metadata": {},
   "outputs": [],
   "source": [
    "data[\"beta_n\"] = (data[\"x\"] - x_mean)*(data[\"y_actual\"] - y_mean)\n",
    "data[\"beta_d\"] = (data[\"x\"] - x_mean)**2"
   ]
  },
  {
   "cell_type": "code",
   "execution_count": 35,
   "id": "2e382c8b",
   "metadata": {},
   "outputs": [],
   "source": [
    "beta = sum(data[\"beta_n\"]) / sum(data[\"beta_d\"])"
   ]
  },
  {
   "cell_type": "code",
   "execution_count": 36,
   "id": "30dee794",
   "metadata": {},
   "outputs": [],
   "source": [
    "alpha = y_mean - beta * x_mean"
   ]
  },
  {
   "cell_type": "code",
   "execution_count": 37,
   "id": "e8ab112a",
   "metadata": {},
   "outputs": [
    {
     "data": {
      "text/plain": [
       "(5.046666240650779, 1.9114570033469118)"
      ]
     },
     "execution_count": 37,
     "metadata": {},
     "output_type": "execute_result"
    }
   ],
   "source": [
    "alpha, beta"
   ]
  },
  {
   "cell_type": "markdown",
   "id": "2469c376",
   "metadata": {},
   "source": [
    "El modelo lineal obtenido por regresion es : y = 5.046666240650779 + 1.9114570033469118 * x"
   ]
  },
  {
   "cell_type": "code",
   "execution_count": 38,
   "id": "ba025119",
   "metadata": {},
   "outputs": [],
   "source": [
    "data[\"y_model\"] = alpha + beta * data[\"x\"]"
   ]
  },
  {
   "cell_type": "code",
   "execution_count": 39,
   "id": "fac0af18",
   "metadata": {},
   "outputs": [
    {
     "data": {
      "text/html": [
       "<div>\n",
       "<style scoped>\n",
       "    .dataframe tbody tr th:only-of-type {\n",
       "        vertical-align: middle;\n",
       "    }\n",
       "\n",
       "    .dataframe tbody tr th {\n",
       "        vertical-align: top;\n",
       "    }\n",
       "\n",
       "    .dataframe thead th {\n",
       "        text-align: right;\n",
       "    }\n",
       "</style>\n",
       "<table border=\"1\" class=\"dataframe\">\n",
       "  <thead>\n",
       "    <tr style=\"text-align: right;\">\n",
       "      <th></th>\n",
       "      <th>x</th>\n",
       "      <th>y_actual</th>\n",
       "      <th>y_prediccion</th>\n",
       "      <th>SSR</th>\n",
       "      <th>SSD</th>\n",
       "      <th>SST</th>\n",
       "      <th>beta_n</th>\n",
       "      <th>beta_d</th>\n",
       "      <th>y_model</th>\n",
       "    </tr>\n",
       "  </thead>\n",
       "  <tbody>\n",
       "    <tr>\n",
       "      <th>0</th>\n",
       "      <td>3.212715</td>\n",
       "      <td>10.820414</td>\n",
       "      <td>11.104159</td>\n",
       "      <td>8.059125</td>\n",
       "      <td>0.080511</td>\n",
       "      <td>6.528616</td>\n",
       "      <td>3.906393</td>\n",
       "      <td>2.337387</td>\n",
       "      <td>11.187633</td>\n",
       "    </tr>\n",
       "    <tr>\n",
       "      <th>1</th>\n",
       "      <td>1.975507</td>\n",
       "      <td>10.090960</td>\n",
       "      <td>8.753463</td>\n",
       "      <td>0.238304</td>\n",
       "      <td>1.788898</td>\n",
       "      <td>3.333039</td>\n",
       "      <td>0.532442</td>\n",
       "      <td>0.085056</td>\n",
       "      <td>8.822763</td>\n",
       "    </tr>\n",
       "    <tr>\n",
       "      <th>2</th>\n",
       "      <td>-0.743023</td>\n",
       "      <td>3.340604</td>\n",
       "      <td>3.588255</td>\n",
       "      <td>21.874734</td>\n",
       "      <td>0.061331</td>\n",
       "      <td>24.252619</td>\n",
       "      <td>11.951677</td>\n",
       "      <td>5.889780</td>\n",
       "      <td>3.626409</td>\n",
       "    </tr>\n",
       "    <tr>\n",
       "      <th>3</th>\n",
       "      <td>5.530609</td>\n",
       "      <td>16.040868</td>\n",
       "      <td>15.508157</td>\n",
       "      <td>52.458993</td>\n",
       "      <td>0.283781</td>\n",
       "      <td>60.459473</td>\n",
       "      <td>29.910634</td>\n",
       "      <td>14.797450</td>\n",
       "      <td>15.618187</td>\n",
       "    </tr>\n",
       "    <tr>\n",
       "      <th>4</th>\n",
       "      <td>2.075061</td>\n",
       "      <td>10.279532</td>\n",
       "      <td>8.942617</td>\n",
       "      <td>0.458760</td>\n",
       "      <td>1.787342</td>\n",
       "      <td>4.057134</td>\n",
       "      <td>0.787964</td>\n",
       "      <td>0.153036</td>\n",
       "      <td>9.013057</td>\n",
       "    </tr>\n",
       "  </tbody>\n",
       "</table>\n",
       "</div>"
      ],
      "text/plain": [
       "          x   y_actual  y_prediccion        SSR       SSD        SST  \\\n",
       "0  3.212715  10.820414     11.104159   8.059125  0.080511   6.528616   \n",
       "1  1.975507  10.090960      8.753463   0.238304  1.788898   3.333039   \n",
       "2 -0.743023   3.340604      3.588255  21.874734  0.061331  24.252619   \n",
       "3  5.530609  16.040868     15.508157  52.458993  0.283781  60.459473   \n",
       "4  2.075061  10.279532      8.942617   0.458760  1.787342   4.057134   \n",
       "\n",
       "      beta_n     beta_d    y_model  \n",
       "0   3.906393   2.337387  11.187633  \n",
       "1   0.532442   0.085056   8.822763  \n",
       "2  11.951677   5.889780   3.626409  \n",
       "3  29.910634  14.797450  15.618187  \n",
       "4   0.787964   0.153036   9.013057  "
      ]
     },
     "execution_count": 39,
     "metadata": {},
     "output_type": "execute_result"
    }
   ],
   "source": [
    "data.head()"
   ]
  },
  {
   "cell_type": "code",
   "execution_count": 40,
   "id": "4f191e2b",
   "metadata": {},
   "outputs": [],
   "source": [
    "SSR = sum((data[\"y_prediccion\"] - np.mean(y_act))**2)\n",
    "SSD = sum((data[\"y_prediccion\"] - data[\"y_actual\"])**2)\n",
    "SST = sum((data[\"y_actual\"] - np.mean(y_act))**2)"
   ]
  },
  {
   "cell_type": "code",
   "execution_count": 41,
   "id": "8396b6a6",
   "metadata": {},
   "outputs": [
    {
     "data": {
      "text/plain": [
       "(2389.8903390689948, 68.83825465219637, 2486.675334279242)"
      ]
     },
     "execution_count": 41,
     "metadata": {},
     "output_type": "execute_result"
    }
   ],
   "source": [
    "SSR, SSD, SST"
   ]
  },
  {
   "cell_type": "code",
   "execution_count": 42,
   "id": "b954a9a6",
   "metadata": {},
   "outputs": [
    {
     "data": {
      "text/plain": [
       "0.9610785558226883"
      ]
     },
     "execution_count": 42,
     "metadata": {},
     "output_type": "execute_result"
    }
   ],
   "source": [
    "R2 = SSR/SST\n",
    "R2"
   ]
  },
  {
   "cell_type": "code",
   "execution_count": 43,
   "id": "6ac7d0e6",
   "metadata": {},
   "outputs": [
    {
     "data": {
      "text/plain": [
       "(array([ 4.,  7., 14., 22., 19., 18.,  5.,  7.,  3.,  1.]),\n",
       " array([-1.93369997, -1.50075993, -1.06781988, -0.63487983, -0.20193978,\n",
       "         0.23100027,  0.66394032,  1.09688036,  1.52982041,  1.96276046,\n",
       "         2.39570051]),\n",
       " <BarContainer object of 10 artists>)"
      ]
     },
     "execution_count": 43,
     "metadata": {},
     "output_type": "execute_result"
    },
    {
     "data": {
      "image/png": "[encoded data removed]",
      "text/plain": [
       "<Figure size 432x288 with 1 Axes>"
      ]
     },
     "metadata": {
      "needs_background": "light"
     },
     "output_type": "display_data"
    }
   ],
   "source": [
    "plt.hist(data[\"y_prediccion\"] - data[\"y_actual\"])"
   ]
  },
  {
   "cell_type": "code",
   "execution_count": 46,
   "id": "fb052254",
   "metadata": {},
   "outputs": [
    {
     "data": {
      "text/plain": [
       "Text(0.5, 1.0, 'Valor actual vs predicción')"
      ]
     },
     "execution_count": 46,
     "metadata": {},
     "output_type": "execute_result"
    },
    {
     "data": {
      "image/png": "[encoded data removed]",
      "text/plain": [
       "<Figure size 432x288 with 1 Axes>"
      ]
     },
     "metadata": {
      "needs_background": "light"
     },
     "output_type": "display_data"
    }
   ],
   "source": [
    "y_mean = [np.mean(y_act) for i in range(1, len(x_list) + 1)]\n",
    "\n",
    "%matplotlib inline\n",
    "plt.plot(data[\"x\"], data[\"y_prediccion\"])\n",
    "plt.plot(data[\"x\"], data[\"y_actual\"], \"ro\")\n",
    "plt.plot(data[\"x\"], y_mean, \"g\")\n",
    "plt.plot(data[\"x\"], data[\"y_model\"])\n",
    "plt.title(\"Valor actual vs predicción\")"
   ]
  },
  {
   "cell_type": "markdown",
   "id": "766fd55c",
   "metadata": {},
   "source": [
    "# Error estandar de los residuos (RSE)"
   ]
  },
  {
   "cell_type": "code",
   "execution_count": 47,
   "id": "d2fd4bfd",
   "metadata": {},
   "outputs": [
    {
     "data": {
      "text/plain": [
       "0.8381116691231373"
      ]
     },
     "execution_count": 47,
     "metadata": {},
     "output_type": "execute_result"
    }
   ],
   "source": [
    "RSE = np.sqrt(SSD/(len(data)-2))\n",
    "RSE"
   ]
  },
  {
   "cell_type": "code",
   "execution_count": 48,
   "id": "4ebc920a",
   "metadata": {},
   "outputs": [
    {
     "data": {
      "text/plain": [
       "8.26529871457293"
      ]
     },
     "execution_count": 48,
     "metadata": {},
     "output_type": "execute_result"
    }
   ],
   "source": [
    "np.mean(data[\"y_actual\"])"
   ]
  },
  {
   "cell_type": "code",
   "execution_count": 49,
   "id": "9cfdbe8b",
   "metadata": {},
   "outputs": [
    {
     "data": {
      "text/plain": [
       "0.10140125578830246"
      ]
     },
     "execution_count": 49,
     "metadata": {},
     "output_type": "execute_result"
    }
   ],
   "source": [
    "RSE / np.mean(data[\"y_actual\"])"
   ]
  },
  {
   "cell_type": "code",
   "execution_count": null,
   "id": "24e6fa5a",
   "metadata": {},
   "outputs": [],
   "source": []
  }
 ],
 "metadata": {
  "kernelspec": {
   "display_name": "Python 3 (ipykernel)",
   "language": "python",
   "name": "python3"
  },
  "language_info": {
   "codemirror_mode": {
    "name": "ipython",
    "version": 3
   },
   "file_extension": ".py",
   "mimetype": "text/x-python",
   "name": "python",
   "nbconvert_exporter": "python",
   "pygments_lexer": "ipython3",
   "version": "3.9.7"
  }
 },
 "nbformat": 4,
 "nbformat_minor": 5
}
